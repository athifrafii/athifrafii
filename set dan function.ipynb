{
  "cells": [
    {
      "cell_type": "markdown",
      "metadata": {
        "id": "view-in-github",
        "colab_type": "text"
      },
      "source": [
        "<a href=\"https://colab.research.google.com/github/athifrafii/athifrafii/blob/main/set%20dan%20function.ipynb\" target=\"_parent\"><img src=\"https://colab.research.google.com/assets/colab-badge.svg\" alt=\"Open In Colab\"/></a>"
      ]
    },
    {
      "cell_type": "code",
      "source": [
        "G=[\"Athif\",\"Nanda\"] #list\n",
        "C=(\"Athif\",\"Nanda\") #Tupple\n",
        "A={'Nama':'Athif','Alamat':'Jl Joyosuko 2','No':5} #Dictionary\n",
        "print(G)\n",
        "print(C)\n",
        "print(A)"
      ],
      "metadata": {
        "id": "6QiL-mTo9j35",
        "outputId": "0a0e7809-1bcb-4f78-a3a2-082427205a86",
        "colab": {
          "base_uri": "https://localhost:8080/"
        }
      },
      "execution_count": 1,
      "outputs": [
        {
          "output_type": "stream",
          "name": "stdout",
          "text": [
            "['Athif', 'Nanda']\n",
            "('Athif', 'Nanda')\n",
            "{'Nama': 'Athif', 'Alamat': 'Jl Joyosuko 2', 'No': 5}\n"
          ]
        }
      ]
    },
    {
      "cell_type": "code",
      "source": [
        "print(G[0])\n",
        "print(C[0])\n",
        "print(A[\"Nama\"])"
      ],
      "metadata": {
        "id": "IR6g6hCY-aCW",
        "outputId": "a9d2344b-e003-458c-b68e-fac2f8eb1d42",
        "colab": {
          "base_uri": "https://localhost:8080/"
        }
      },
      "execution_count": 2,
      "outputs": [
        {
          "output_type": "stream",
          "name": "stdout",
          "text": [
            "Athif\n",
            "Athif\n",
            "Athif\n"
          ]
        }
      ]
    },
    {
      "cell_type": "code",
      "source": [
        "G[0]=\"Ira\"\n",
        "#C[0]=:\"Ira\" #Tupple tidak bisa diganti\n",
        "A['No']='4'\n",
        "print(G)\n",
        "print(A)"
      ],
      "metadata": {
        "id": "k1K2SI-g-12y",
        "outputId": "265e89e8-5738-4f09-bd4b-2b3ee56ab1b8",
        "colab": {
          "base_uri": "https://localhost:8080/"
        }
      },
      "execution_count": 3,
      "outputs": [
        {
          "output_type": "stream",
          "name": "stdout",
          "text": [
            "['Ira', 'Nanda']\n",
            "{'Nama': 'Athif', 'Alamat': 'Jl Joyosuko 2', 'No': '4'}\n"
          ]
        }
      ]
    },
    {
      "cell_type": "code",
      "source": [
        "del A['No']\n",
        "print(A)\n",
        "del G[0]\n",
        "print(G)"
      ],
      "metadata": {
        "id": "0xi_bDqe_n85",
        "outputId": "f1c0d2f7-f171-403e-82d4-889807d8b4c8",
        "colab": {
          "base_uri": "https://localhost:8080/"
        }
      },
      "execution_count": 4,
      "outputs": [
        {
          "output_type": "stream",
          "name": "stdout",
          "text": [
            "{'Nama': 'Athif', 'Alamat': 'Jl Joyosuko 2'}\n",
            "['Nanda']\n"
          ]
        }
      ]
    },
    {
      "cell_type": "code",
      "source": [
        "B={'x':1, 'y':2, 'x':3}\n",
        "print(B)"
      ],
      "metadata": {
        "id": "Y49OhMoWACmW",
        "outputId": "b99d8888-93d8-4422-d055-37663e58354c",
        "colab": {
          "base_uri": "https://localhost:8080/"
        }
      },
      "execution_count": 5,
      "outputs": [
        {
          "output_type": "stream",
          "name": "stdout",
          "text": [
            "{'x': 3, 'y': 2}\n"
          ]
        }
      ]
    },
    {
      "cell_type": "code",
      "source": [
        "len(A)"
      ],
      "metadata": {
        "id": "9j9Q1h6UAZ0f",
        "outputId": "93911b48-833b-4c63-c877-1bc15857102f",
        "colab": {
          "base_uri": "https://localhost:8080/"
        }
      },
      "execution_count": 6,
      "outputs": [
        {
          "output_type": "execute_result",
          "data": {
            "text/plain": [
              "2"
            ]
          },
          "metadata": {},
          "execution_count": 6
        }
      ]
    },
    {
      "cell_type": "code",
      "source": [
        "len(B)"
      ],
      "metadata": {
        "id": "4T7LPwFeAj5o",
        "outputId": "57f57aa5-9904-4a88-e1fe-54c124cbdbea",
        "colab": {
          "base_uri": "https://localhost:8080/"
        }
      },
      "execution_count": 7,
      "outputs": [
        {
          "output_type": "execute_result",
          "data": {
            "text/plain": [
              "2"
            ]
          },
          "metadata": {},
          "execution_count": 7
        }
      ]
    },
    {
      "cell_type": "code",
      "source": [
        "hewan={\"anjing\",\"kucing\",\"anjing\"}\n",
        "print(hewan)"
      ],
      "metadata": {
        "id": "fimrkuBMA1ms",
        "outputId": "6344b8f7-b8ec-44fb-d7e0-fcdff7f4d836",
        "colab": {
          "base_uri": "https://localhost:8080/"
        }
      },
      "execution_count": 8,
      "outputs": [
        {
          "output_type": "stream",
          "name": "stdout",
          "text": [
            "{'anjing', 'kucing'}\n"
          ]
        }
      ]
    },
    {
      "cell_type": "code",
      "source": [
        "harikerja={\"senin\",\"selasa\",\"rabu\"}\n",
        "print(harikerja)\n",
        "r=[1,2,3]"
      ],
      "metadata": {
        "id": "Jzx_vCXDBX2p",
        "outputId": "32d323d4-d762-455a-8e7c-b42b13c64332",
        "colab": {
          "base_uri": "https://localhost:8080/"
        }
      },
      "execution_count": 9,
      "outputs": [
        {
          "output_type": "stream",
          "name": "stdout",
          "text": [
            "{'rabu', 'senin', 'selasa'}\n"
          ]
        }
      ]
    },
    {
      "cell_type": "code",
      "source": [
        "for a in harikerja:\n",
        "  print(a)\n",
        "for a in r:\n",
        "  print(a)"
      ],
      "metadata": {
        "id": "kdXrCichByjl",
        "outputId": "e3c19d58-3bdf-4879-9f67-33019252544a",
        "colab": {
          "base_uri": "https://localhost:8080/"
        }
      },
      "execution_count": 10,
      "outputs": [
        {
          "output_type": "stream",
          "name": "stdout",
          "text": [
            "rabu\n",
            "senin\n",
            "selasa\n",
            "1\n",
            "2\n",
            "3\n"
          ]
        }
      ]
    },
    {
      "cell_type": "code",
      "source": [
        "harikerja.add(\"kamis\")\n",
        "print(harikerja)"
      ],
      "metadata": {
        "id": "MEnSOeLfCLWs",
        "outputId": "a7155ddf-757c-4597-ed0e-2fc708c0ffbf",
        "colab": {
          "base_uri": "https://localhost:8080/"
        }
      },
      "execution_count": 11,
      "outputs": [
        {
          "output_type": "stream",
          "name": "stdout",
          "text": [
            "{'kamis', 'rabu', 'senin', 'selasa'}\n"
          ]
        }
      ]
    },
    {
      "cell_type": "code",
      "source": [
        "harikerja.discard(\"senin\")\n",
        "print(harikerja)"
      ],
      "metadata": {
        "id": "BHqzzJQ6CX8x",
        "outputId": "f80c38f7-a449-4906-a78a-49f520ab635c",
        "colab": {
          "base_uri": "https://localhost:8080/"
        }
      },
      "execution_count": 12,
      "outputs": [
        {
          "output_type": "stream",
          "name": "stdout",
          "text": [
            "{'kamis', 'rabu', 'selasa'}\n"
          ]
        }
      ]
    },
    {
      "cell_type": "code",
      "source": [
        "a={1,2,3,4}\n",
        "b={4,5,6,7}\n",
        "c=a|b\n",
        "print(c)"
      ],
      "metadata": {
        "id": "DW8xd9UVCeJ3",
        "outputId": "353e88e2-756a-44da-fbfd-a1374fdae7cd",
        "colab": {
          "base_uri": "https://localhost:8080/"
        }
      },
      "execution_count": 16,
      "outputs": [
        {
          "output_type": "stream",
          "name": "stdout",
          "text": [
            "{1, 2, 3, 4, 5, 6, 7}\n"
          ]
        }
      ]
    },
    {
      "cell_type": "code",
      "source": [
        "a={1,2,3,4}\n",
        "b={4,5,6,7}\n",
        "c=a&b\n",
        "print(c)"
      ],
      "metadata": {
        "id": "92Cw-9u1CuMR",
        "outputId": "20e2ff93-0d24-4768-f130-0c45f539b57d",
        "colab": {
          "base_uri": "https://localhost:8080/"
        }
      },
      "execution_count": 17,
      "outputs": [
        {
          "output_type": "stream",
          "name": "stdout",
          "text": [
            "{4}\n"
          ]
        }
      ]
    },
    {
      "cell_type": "code",
      "source": [
        "a={1,2,3,4}\n",
        "b={4,5,6,7}\n",
        "c=a-b\n",
        "print(c)"
      ],
      "metadata": {
        "id": "WwPXor1zDSqK",
        "outputId": "468b902d-51e2-493e-e2de-beaec56260e0",
        "colab": {
          "base_uri": "https://localhost:8080/"
        }
      },
      "execution_count": 18,
      "outputs": [
        {
          "output_type": "stream",
          "name": "stdout",
          "text": [
            "{1, 2, 3}\n"
          ]
        }
      ]
    },
    {
      "cell_type": "code",
      "source": [
        "a={1,2,3,4}\n",
        "b={4,5,6,7}\n",
        "c=a^b\n",
        "print(c)"
      ],
      "metadata": {
        "id": "VdQL2Z1iDc-O",
        "outputId": "465aff43-8aae-49ce-b7d7-2798a6fcc5f9",
        "colab": {
          "base_uri": "https://localhost:8080/"
        }
      },
      "execution_count": 19,
      "outputs": [
        {
          "output_type": "stream",
          "name": "stdout",
          "text": [
            "{1, 2, 3, 5, 6, 7}\n"
          ]
        }
      ]
    },
    {
      "cell_type": "code",
      "source": [
        "a={1,2,3,4}\n",
        "b={4,5,6,7}\n",
        "c=a<=b\n",
        "print(c)"
      ],
      "metadata": {
        "id": "jfN1_BiPDg8X",
        "outputId": "a9b8799f-5b82-4474-df1c-3857b6d7af6f",
        "colab": {
          "base_uri": "https://localhost:8080/"
        }
      },
      "execution_count": 20,
      "outputs": [
        {
          "output_type": "stream",
          "name": "stdout",
          "text": [
            "False\n"
          ]
        }
      ]
    },
    {
      "cell_type": "code",
      "source": [
        "a={1,2,3,4}\n",
        "d={1,2,3,4,5}\n",
        "e=a<=d\n",
        "print(e)"
      ],
      "metadata": {
        "id": "bPbntcY4Dm1_",
        "outputId": "f912ba81-c001-48cb-81f6-1958327af2fd",
        "colab": {
          "base_uri": "https://localhost:8080/"
        }
      },
      "execution_count": 21,
      "outputs": [
        {
          "output_type": "stream",
          "name": "stdout",
          "text": [
            "True\n"
          ]
        }
      ]
    },
    {
      "cell_type": "markdown",
      "source": [
        "# Fungsi"
      ],
      "metadata": {
        "id": "5FKzJs7iFvcZ"
      }
    },
    {
      "cell_type": "code",
      "source": [
        "def lpp(panjang,lebar):\n",
        "  luas=panjang*lebar\n",
        "  return(luas)\n"
      ],
      "metadata": {
        "id": "usJTi-fmEGxN"
      },
      "execution_count": 22,
      "outputs": []
    },
    {
      "cell_type": "code",
      "source": [
        "lpp(4,5)"
      ],
      "metadata": {
        "id": "q_FEzuUbEiGk",
        "outputId": "475cb07d-e482-4e11-f536-112cd717e387",
        "colab": {
          "base_uri": "https://localhost:8080/"
        }
      },
      "execution_count": 23,
      "outputs": [
        {
          "output_type": "execute_result",
          "data": {
            "text/plain": [
              "20"
            ]
          },
          "metadata": {},
          "execution_count": 23
        }
      ]
    },
    {
      "cell_type": "code",
      "source": [
        "a=lpp(4,5)\n",
        "print(a)"
      ],
      "metadata": {
        "id": "yuPlp3kwEnr7",
        "outputId": "899ed8ac-ca7e-4b9b-8ba1-97fa2ba0f9ee",
        "colab": {
          "base_uri": "https://localhost:8080/"
        }
      },
      "execution_count": 25,
      "outputs": [
        {
          "output_type": "stream",
          "name": "stdout",
          "text": [
            "20\n"
          ]
        }
      ]
    },
    {
      "cell_type": "code",
      "source": [
        "def hasil(a,b):\n",
        "  c=lpp(a,b)\n",
        "  print(\"panjang,lebar,luas:%f\\t%f\\t%f\" %(a,b,c))"
      ],
      "metadata": {
        "id": "wCYcAfV5EoJf"
      },
      "execution_count": 27,
      "outputs": []
    },
    {
      "cell_type": "code",
      "source": [
        "hasil(4,5)"
      ],
      "metadata": {
        "id": "NGY0N8JLEoTv",
        "outputId": "bcea2349-43af-4459-faeb-b687f5ca31ab",
        "colab": {
          "base_uri": "https://localhost:8080/"
        }
      },
      "execution_count": 28,
      "outputs": [
        {
          "output_type": "stream",
          "name": "stdout",
          "text": [
            "panjang,lebar,luas:4.000000\t5.000000\t20.000000\n"
          ]
        }
      ]
    },
    {
      "cell_type": "code",
      "source": [
        "def tulis(a,b=True):\n",
        "  if not b:\n",
        "    print(b)\n",
        "  else:\n",
        "    print(a*2)"
      ],
      "metadata": {
        "id": "pQu_Wh43Eoek"
      },
      "execution_count": 29,
      "outputs": []
    },
    {
      "cell_type": "code",
      "source": [
        "tulis(4)"
      ],
      "metadata": {
        "id": "DH036kkpEooD",
        "outputId": "684b5ef8-8779-48ce-c857-9d5e724d6fff",
        "colab": {
          "base_uri": "https://localhost:8080/"
        }
      },
      "execution_count": 30,
      "outputs": [
        {
          "output_type": "stream",
          "name": "stdout",
          "text": [
            "8\n"
          ]
        }
      ]
    },
    {
      "cell_type": "code",
      "source": [
        "tulis(4,False)"
      ],
      "metadata": {
        "id": "WOBK6nWvEow_",
        "outputId": "9870fc55-f9be-4d00-99ee-69e9ae954108",
        "colab": {
          "base_uri": "https://localhost:8080/"
        }
      },
      "execution_count": 33,
      "outputs": [
        {
          "output_type": "stream",
          "name": "stdout",
          "text": [
            "False\n"
          ]
        }
      ]
    },
    {
      "cell_type": "code",
      "source": [
        "tulis(4,True)"
      ],
      "metadata": {
        "id": "G9PoJ_RuEpNp",
        "outputId": "7fea84a3-e8a3-46ef-b43c-7561472e73a4",
        "colab": {
          "base_uri": "https://localhost:8080/"
        }
      },
      "execution_count": 34,
      "outputs": [
        {
          "output_type": "stream",
          "name": "stdout",
          "text": [
            "8\n"
          ]
        }
      ]
    }
  ],
  "metadata": {
    "colab": {
      "collapsed_sections": [],
      "name": "Selamat Datang di Colaboratory",
      "toc_visible": true,
      "provenance": [],
      "include_colab_link": true
    },
    "kernelspec": {
      "display_name": "Python 3",
      "name": "python3"
    }
  },
  "nbformat": 4,
  "nbformat_minor": 0
}
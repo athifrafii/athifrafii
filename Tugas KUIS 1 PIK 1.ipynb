{
  "cells": [
    {
      "cell_type": "markdown",
      "metadata": {
        "id": "view-in-github",
        "colab_type": "text"
      },
      "source": [
        "<a href=\"https://colab.research.google.com/github/athifrafii/athifrafii/blob/main/Tugas%20KUIS%201%20PIK%201.ipynb\" target=\"_parent\"><img src=\"https://colab.research.google.com/assets/colab-badge.svg\" alt=\"Open In Colab\"/></a>"
      ]
    },
    {
      "cell_type": "code",
      "source": [
        "Nama = input(\"Muhammad Athif Rafii?\")\n",
        "Golongan = input(\"Golongan (I/II/III/IV/-) :\")\n",
        "Honor = int(input(\"jumlah Honor :\"))\n",
        "if Golongan == \"I\" or Golongan == \"II\" or Golongan == \"III\":\n",
        "  Pajak =0.05*Honor;\n",
        "elif Golongan == \"IV\":\n",
        "  Pajak =0.15*Honor;\n",
        "else :\n",
        "  print (\"Tidak ada Golongan\")\n",
        "\n",
        "print (Pajak)"
      ],
      "metadata": {
        "id": "hkAXxaI2WbnM",
        "outputId": "d44f3d93-06c7-4399-9909-04b29ef01b33",
        "colab": {
          "base_uri": "https://localhost:8080/"
        }
      },
      "execution_count": 4,
      "outputs": [
        {
          "output_type": "stream",
          "name": "stdout",
          "text": [
            "Muhammad Athif Rafii?Golongan\n",
            "Golongan (I/II/III/IV/-) :I\n",
            "jumlah Honor :200000\n",
            "10000.0\n"
          ]
        }
      ]
    },
    {
      "cell_type": "code",
      "source": [
        "pip install prettytable\n"
      ],
      "metadata": {
        "id": "dKP8T4pLzqJA",
        "outputId": "3d5c69a7-e32e-46f6-fc31-96379f02753c",
        "colab": {
          "base_uri": "https://localhost:8080/"
        }
      },
      "execution_count": 7,
      "outputs": [
        {
          "output_type": "stream",
          "name": "stdout",
          "text": [
            "Requirement already satisfied: prettytable in /usr/local/lib/python3.7/dist-packages (3.1.1)\n",
            "Requirement already satisfied: importlib-metadata in /usr/local/lib/python3.7/dist-packages (from prettytable) (4.11.2)\n",
            "Requirement already satisfied: wcwidth in /usr/local/lib/python3.7/dist-packages (from prettytable) (0.2.5)\n",
            "Requirement already satisfied: typing-extensions>=3.6.4 in /usr/local/lib/python3.7/dist-packages (from importlib-metadata->prettytable) (3.10.0.2)\n",
            "Requirement already satisfied: zipp>=0.5 in /usr/local/lib/python3.7/dist-packages (from importlib-metadata->prettytable) (3.7.0)\n"
          ]
        }
      ]
    },
    {
      "cell_type": "code",
      "source": [
        "from decimal import Decimal\n",
        "from prettytable import PrettyTable\n",
        "from random import lognormvariate\n",
        "from unicodedata import name\n",
        "\n",
        "lnama=[]\n",
        "lgolongan=[]\n",
        "ihonor=[]\n",
        "lnpwp=[]\n",
        "lpajak=[]\n",
        "lhonor_bersih=[]\n",
        "\n",
        "x=PrettyTable()\n",
        "x.field_names=[\"Nama\", \"Golongan\", \"NPWP\",\"Honor\",\"Pajak\",\"Honor Bersih\"]\n",
        "pilihan=True\n",
        "print(\"\")\n",
        "print(x)\n",
        "while pilihan == True :\n",
        "  print(\"PROGRAM PERHITUNGAN HONOR\")\n",
        "\n",
        "  Nama=(input(\"Masukkan Nama :\"))\n",
        "\n",
        "  Golongan=input(\" Golongan I/II/III/IV/tidak ada(-) :\").upper()\n",
        "\n",
        "  Honor=input(\"jumlah Honor :\")\n",
        "  if Golongan == \"-\" or Golongan == \"\":\n",
        "    NPWP = (input(\"NPWP ada atau tidak? (y/t) :\").lower())\n",
        "  else:\n",
        "    NPWP =\"y\"\n",
        "\n",
        "  if Golongan==\"I\" or Golongan==\"II\" or Golongan==\"III\" or (Golongan ==\"-\" and NPwP ==\"y\"):\n",
        "    Pajak=0.05*float(Honor)\n",
        "  elif golongan==\"IV\":\n",
        "    Pajak=0.15*float(Honor)\n",
        "  else:\n",
        "    Pajak=0.06*float(Honor)\n",
        "  \n",
        "  if NPWP == \"y\":\n",
        "    NPWP = \"Ada\"\n",
        "  else:\n",
        "    NPWP = \"Tidak Ada\"\n",
        "\n",
        "  honor_bersih=float(Honor)-Pajak\n",
        "\n",
        "  lnama.append(Nama)\n",
        "  lgolongan.append(Golongan)\n",
        "  lhonor.append(Honor)\n",
        "  lnpwp.append(NPWP)\n",
        "  lpajak.append(Pajak)\n",
        "  lhonor_bersih.append(honor_bersih)\n",
        "\n",
        "  x.add_row([Nama,Golongan,NPWP,Honor,Pajak,honor_bersih])\n",
        "\n",
        "  print(\"\\nlaporan Database :\")\n",
        "  print(x)\n",
        "\n",
        "  total = sum(Decimal(i) for i in lhonor)\n",
        "\n",
        "  print(\"Total : \" + str(total))\n",
        "  print(\"Rata-Rata : \" + str(total/len(lhonor)))\n",
        "\n",
        "  pilihan = input(\"\\nInput Data Baru Lagi? (y/t) : \").lower()\n",
        "  if pilihan == \"y\":\n",
        "    pilihan = True\n",
        "  else :\n",
        "     print(\"\\n\\nTerimakasih berikut Laporan Akhirnya : \\n\")\n",
        "  print(x)"
      ],
      "metadata": {
        "id": "zqaNn6ppozHL",
        "outputId": "43ecd5c8-6354-47b3-fc30-c9d330da20eb",
        "colab": {
          "base_uri": "https://localhost:8080/"
        }
      },
      "execution_count": null,
      "outputs": [
        {
          "output_type": "stream",
          "name": "stdout",
          "text": [
            "\n",
            "+------+----------+------+-------+-------+--------------+\n",
            "| Nama | Golongan | NPWP | Honor | Pajak | Honor Bersih |\n",
            "+------+----------+------+-------+-------+--------------+\n",
            "+------+----------+------+-------+-------+--------------+\n",
            "PROGRAM PERHITUNGAN HONOR\n"
          ]
        }
      ]
    }
  ],
  "metadata": {
    "colab": {
      "collapsed_sections": [],
      "name": "Selamat Datang di Colaboratory",
      "provenance": [],
      "include_colab_link": true
    },
    "kernelspec": {
      "display_name": "Python 3",
      "name": "python3"
    }
  },
  "nbformat": 4,
  "nbformat_minor": 0
}